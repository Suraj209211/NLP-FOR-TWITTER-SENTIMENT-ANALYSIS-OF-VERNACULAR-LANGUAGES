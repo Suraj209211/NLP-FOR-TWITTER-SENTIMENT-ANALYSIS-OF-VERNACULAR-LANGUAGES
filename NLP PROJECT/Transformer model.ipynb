{
 "cells": [
  {
   "cell_type": "code",
   "execution_count": 26,
   "metadata": {},
   "outputs": [],
   "source": [
    "import tensorflow as tf\n",
    "\n",
    "class Transformer(tf.keras.Model):\n",
    "    def __init__(self, vocab_size, d_model, num_heads, num_encoder_layers, num_decoder_layers,):\n",
    "        super(transformer, self).__init__()\n",
    "        self.encoders_layers = tf.keras.Sequential([\n",
    "            tf.keras.layers.Embedding(vocab_size, d_model, ),\n",
    "            tf.keras.layers.TransformerEncoder(\n",
    "                num_heads=num_heads,\n",
    "                num_encoder_layers=num_encoder_layers\n",
    "            )\n",
    "        ])\n",
    "#decode state\n",
    "        self.decoder = tf.keras.Sequential([\n",
    "            tf.keras.layers.Embedding(vocab_size, d_model),\n",
    "            tf.keras.layers.TransformerEncoder(\n",
    "                num_heads=num_heads,\n",
    "                num_decoder_layers=num_decoder_layers\n",
    "            )\n",
    "        ])\n",
    "\n",
    "    def call(self, inputs, output, labels):\n",
    "        encoder_output = self.encoder(inputs, labels)\n",
    "        decoder_output = self.decoder(labels, encoder_output)\n",
    "        results = self.dense(decoder_output)\n",
    "        return results\n",
    "\n",
    "\n",
    "def train(model, dataset, epochs):\n",
    "    for epoch in range(epochs):\n",
    "        for (inputs, labels) in dataset:\n",
    "            loss = model.train_on_batch(inputs, labels)\n",
    "        \n",
    "\n",
    "    vocab_size = 10000\n",
    "    d_model = 128\n",
    "    num_heads = 8\n",
    "    num_encoder_layers = 6\n",
    "    num_decoder_layers = 6\n",
    "\n",
    "    model = Transformer(vocab_size, d_model, num_heads, num_encoder_layers, num_decoder_layers)\n",
    "\n",
    "\n",
    "    dataset = dataset.batch(32)\n",
    "    train(model, 10)"
   ]
  },
  {
   "cell_type": "code",
   "execution_count": null,
   "metadata": {},
   "outputs": [],
   "source": []
  }
 ],
 "metadata": {
  "kernelspec": {
   "display_name": "Python 3",
   "language": "python",
   "name": "python3"
  },
  "language_info": {
   "codemirror_mode": {
    "name": "ipython",
    "version": 3
   },
   "file_extension": ".py",
   "mimetype": "text/x-python",
   "name": "python",
   "nbconvert_exporter": "python",
   "pygments_lexer": "ipython3",
   "version": "3.11.4"
  },
  "orig_nbformat": 4
 },
 "nbformat": 4,
 "nbformat_minor": 2
}
